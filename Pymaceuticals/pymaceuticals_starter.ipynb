{
 "cells": [
  {
   "cell_type": "markdown",
   "metadata": {},
   "source": [
    "## Observations and Insights "
   ]
  },
  {
   "cell_type": "markdown",
   "metadata": {},
   "source": []
  },
  {
   "cell_type": "code",
   "execution_count": 2,
   "metadata": {},
   "outputs": [
    {
     "data": {
      "text/html": [
       "<div>\n",
       "<style scoped>\n",
       "    .dataframe tbody tr th:only-of-type {\n",
       "        vertical-align: middle;\n",
       "    }\n",
       "\n",
       "    .dataframe tbody tr th {\n",
       "        vertical-align: top;\n",
       "    }\n",
       "\n",
       "    .dataframe thead th {\n",
       "        text-align: right;\n",
       "    }\n",
       "</style>\n",
       "<table border=\"1\" class=\"dataframe\">\n",
       "  <thead>\n",
       "    <tr style=\"text-align: right;\">\n",
       "      <th></th>\n",
       "      <th>Mouse ID</th>\n",
       "      <th>Timepoint</th>\n",
       "      <th>Tumor Volume (mm3)</th>\n",
       "      <th>Metastatic Sites</th>\n",
       "      <th>Drug Regimen</th>\n",
       "      <th>Sex</th>\n",
       "      <th>Age_months</th>\n",
       "      <th>Weight (g)</th>\n",
       "    </tr>\n",
       "  </thead>\n",
       "  <tbody>\n",
       "    <tr>\n",
       "      <th>0</th>\n",
       "      <td>b128</td>\n",
       "      <td>0</td>\n",
       "      <td>45.0</td>\n",
       "      <td>0</td>\n",
       "      <td>Capomulin</td>\n",
       "      <td>Female</td>\n",
       "      <td>9</td>\n",
       "      <td>22</td>\n",
       "    </tr>\n",
       "    <tr>\n",
       "      <th>1</th>\n",
       "      <td>f932</td>\n",
       "      <td>0</td>\n",
       "      <td>45.0</td>\n",
       "      <td>0</td>\n",
       "      <td>Ketapril</td>\n",
       "      <td>Male</td>\n",
       "      <td>15</td>\n",
       "      <td>29</td>\n",
       "    </tr>\n",
       "    <tr>\n",
       "      <th>2</th>\n",
       "      <td>g107</td>\n",
       "      <td>0</td>\n",
       "      <td>45.0</td>\n",
       "      <td>0</td>\n",
       "      <td>Ketapril</td>\n",
       "      <td>Female</td>\n",
       "      <td>2</td>\n",
       "      <td>29</td>\n",
       "    </tr>\n",
       "    <tr>\n",
       "      <th>3</th>\n",
       "      <td>a457</td>\n",
       "      <td>0</td>\n",
       "      <td>45.0</td>\n",
       "      <td>0</td>\n",
       "      <td>Ketapril</td>\n",
       "      <td>Female</td>\n",
       "      <td>11</td>\n",
       "      <td>30</td>\n",
       "    </tr>\n",
       "    <tr>\n",
       "      <th>4</th>\n",
       "      <td>c819</td>\n",
       "      <td>0</td>\n",
       "      <td>45.0</td>\n",
       "      <td>0</td>\n",
       "      <td>Ketapril</td>\n",
       "      <td>Male</td>\n",
       "      <td>21</td>\n",
       "      <td>25</td>\n",
       "    </tr>\n",
       "  </tbody>\n",
       "</table>\n",
       "</div>"
      ],
      "text/plain": [
       "  Mouse ID  Timepoint  Tumor Volume (mm3)  Metastatic Sites Drug Regimen  \\\n",
       "0     b128          0                45.0                 0    Capomulin   \n",
       "1     f932          0                45.0                 0     Ketapril   \n",
       "2     g107          0                45.0                 0     Ketapril   \n",
       "3     a457          0                45.0                 0     Ketapril   \n",
       "4     c819          0                45.0                 0     Ketapril   \n",
       "\n",
       "      Sex  Age_months  Weight (g)  \n",
       "0  Female           9          22  \n",
       "1    Male          15          29  \n",
       "2  Female           2          29  \n",
       "3  Female          11          30  \n",
       "4    Male          21          25  "
      ]
     },
     "execution_count": 2,
     "metadata": {},
     "output_type": "execute_result"
    }
   ],
   "source": [
    "# Dependencies and Setup\n",
    "import matplotlib.pyplot as plt\n",
    "import pandas as pd\n",
    "import scipy.stats as st\n",
    "import numpy as np\n",
    "from sklearn import datasets\n",
    "\n",
    "# Study data files\n",
    "mouse_metadata_path = \"data/Mouse_metadata.csv\"\n",
    "study_results_path = \"data/Study_results.csv\"\n",
    "\n",
    "# Read the mouse data and the study results\n",
    "mouse_metadata = pd.read_csv(mouse_metadata_path)\n",
    "study_results = pd.read_csv(study_results_path)\n",
    "\n",
    "# Combine the data into a single dataset\n",
    "combined_data_df = pd.merge(study_results, mouse_metadata, on = \"Mouse ID\", how =\"left\")\n",
    "\n",
    "# Display the data table for preview\n",
    "combined_data_df.head()"
   ]
  },
  {
   "cell_type": "code",
   "execution_count": 3,
   "metadata": {},
   "outputs": [
    {
     "data": {
      "text/plain": [
       "249"
      ]
     },
     "execution_count": 3,
     "metadata": {},
     "output_type": "execute_result"
    }
   ],
   "source": [
    "# Checking the number of mice.\n",
    "mice_count = combined_data_df[\"Mouse ID\"].nunique()\n",
    "mice_count"
   ]
  },
  {
   "cell_type": "code",
   "execution_count": 4,
   "metadata": {},
   "outputs": [
    {
     "data": {
      "text/html": [
       "<div>\n",
       "<style scoped>\n",
       "    .dataframe tbody tr th:only-of-type {\n",
       "        vertical-align: middle;\n",
       "    }\n",
       "\n",
       "    .dataframe tbody tr th {\n",
       "        vertical-align: top;\n",
       "    }\n",
       "\n",
       "    .dataframe thead th {\n",
       "        text-align: right;\n",
       "    }\n",
       "</style>\n",
       "<table border=\"1\" class=\"dataframe\">\n",
       "  <thead>\n",
       "    <tr style=\"text-align: right;\">\n",
       "      <th></th>\n",
       "      <th>Mouse ID</th>\n",
       "      <th>Timepoint</th>\n",
       "      <th>Tumor Volume (mm3)</th>\n",
       "      <th>Metastatic Sites</th>\n",
       "      <th>Drug Regimen</th>\n",
       "      <th>Sex</th>\n",
       "      <th>Age_months</th>\n",
       "      <th>Weight (g)</th>\n",
       "    </tr>\n",
       "  </thead>\n",
       "  <tbody>\n",
       "    <tr>\n",
       "      <th>137</th>\n",
       "      <td>g989</td>\n",
       "      <td>0</td>\n",
       "      <td>45.000000</td>\n",
       "      <td>0</td>\n",
       "      <td>Propriva</td>\n",
       "      <td>Female</td>\n",
       "      <td>21</td>\n",
       "      <td>26</td>\n",
       "    </tr>\n",
       "    <tr>\n",
       "      <th>250</th>\n",
       "      <td>a275</td>\n",
       "      <td>5</td>\n",
       "      <td>46.795257</td>\n",
       "      <td>0</td>\n",
       "      <td>Ceftamin</td>\n",
       "      <td>Female</td>\n",
       "      <td>20</td>\n",
       "      <td>28</td>\n",
       "    </tr>\n",
       "    <tr>\n",
       "      <th>251</th>\n",
       "      <td>w575</td>\n",
       "      <td>5</td>\n",
       "      <td>48.913860</td>\n",
       "      <td>1</td>\n",
       "      <td>Zoniferol</td>\n",
       "      <td>Female</td>\n",
       "      <td>16</td>\n",
       "      <td>28</td>\n",
       "    </tr>\n",
       "    <tr>\n",
       "      <th>252</th>\n",
       "      <td>x822</td>\n",
       "      <td>5</td>\n",
       "      <td>45.671104</td>\n",
       "      <td>1</td>\n",
       "      <td>Ceftamin</td>\n",
       "      <td>Male</td>\n",
       "      <td>3</td>\n",
       "      <td>29</td>\n",
       "    </tr>\n",
       "    <tr>\n",
       "      <th>253</th>\n",
       "      <td>l509</td>\n",
       "      <td>5</td>\n",
       "      <td>45.851193</td>\n",
       "      <td>0</td>\n",
       "      <td>Capomulin</td>\n",
       "      <td>Male</td>\n",
       "      <td>17</td>\n",
       "      <td>21</td>\n",
       "    </tr>\n",
       "  </tbody>\n",
       "</table>\n",
       "</div>"
      ],
      "text/plain": [
       "    Mouse ID  Timepoint  Tumor Volume (mm3)  Metastatic Sites Drug Regimen  \\\n",
       "137     g989          0           45.000000                 0     Propriva   \n",
       "250     a275          5           46.795257                 0     Ceftamin   \n",
       "251     w575          5           48.913860                 1    Zoniferol   \n",
       "252     x822          5           45.671104                 1     Ceftamin   \n",
       "253     l509          5           45.851193                 0    Capomulin   \n",
       "\n",
       "        Sex  Age_months  Weight (g)  \n",
       "137  Female          21          26  \n",
       "250  Female          20          28  \n",
       "251  Female          16          28  \n",
       "252    Male           3          29  \n",
       "253    Male          17          21  "
      ]
     },
     "execution_count": 4,
     "metadata": {},
     "output_type": "execute_result"
    }
   ],
   "source": [
    "# Getting the duplicate mice by ID number that shows up for Mouse ID and Timepoint. \n",
    "mice_duplicates = combined_data_df[combined_data_df[\"Mouse ID\"].duplicated()]\n",
    "mice_duplicates.head()"
   ]
  },
  {
   "cell_type": "code",
   "execution_count": 5,
   "metadata": {},
   "outputs": [
    {
     "data": {
      "text/html": [
       "<div>\n",
       "<style scoped>\n",
       "    .dataframe tbody tr th:only-of-type {\n",
       "        vertical-align: middle;\n",
       "    }\n",
       "\n",
       "    .dataframe tbody tr th {\n",
       "        vertical-align: top;\n",
       "    }\n",
       "\n",
       "    .dataframe thead th {\n",
       "        text-align: right;\n",
       "    }\n",
       "</style>\n",
       "<table border=\"1\" class=\"dataframe\">\n",
       "  <thead>\n",
       "    <tr style=\"text-align: right;\">\n",
       "      <th></th>\n",
       "      <th>Mouse ID</th>\n",
       "      <th>Timepoint</th>\n",
       "      <th>Tumor Volume (mm3)</th>\n",
       "      <th>Metastatic Sites</th>\n",
       "      <th>Drug Regimen</th>\n",
       "      <th>Sex</th>\n",
       "      <th>Age_months</th>\n",
       "      <th>Weight (g)</th>\n",
       "    </tr>\n",
       "  </thead>\n",
       "  <tbody>\n",
       "    <tr>\n",
       "      <th>1295</th>\n",
       "      <td>a203</td>\n",
       "      <td>25</td>\n",
       "      <td>56.793208</td>\n",
       "      <td>1</td>\n",
       "      <td>Infubinol</td>\n",
       "      <td>Female</td>\n",
       "      <td>20</td>\n",
       "      <td>23</td>\n",
       "    </tr>\n",
       "    <tr>\n",
       "      <th>389</th>\n",
       "      <td>a203</td>\n",
       "      <td>5</td>\n",
       "      <td>48.508468</td>\n",
       "      <td>0</td>\n",
       "      <td>Infubinol</td>\n",
       "      <td>Female</td>\n",
       "      <td>20</td>\n",
       "      <td>23</td>\n",
       "    </tr>\n",
       "    <tr>\n",
       "      <th>1804</th>\n",
       "      <td>a203</td>\n",
       "      <td>45</td>\n",
       "      <td>67.973419</td>\n",
       "      <td>2</td>\n",
       "      <td>Infubinol</td>\n",
       "      <td>Female</td>\n",
       "      <td>20</td>\n",
       "      <td>23</td>\n",
       "    </tr>\n",
       "    <tr>\n",
       "      <th>758</th>\n",
       "      <td>a203</td>\n",
       "      <td>15</td>\n",
       "      <td>52.777870</td>\n",
       "      <td>1</td>\n",
       "      <td>Infubinol</td>\n",
       "      <td>Female</td>\n",
       "      <td>20</td>\n",
       "      <td>23</td>\n",
       "    </tr>\n",
       "    <tr>\n",
       "      <th>1315</th>\n",
       "      <td>a203</td>\n",
       "      <td>30</td>\n",
       "      <td>59.523197</td>\n",
       "      <td>1</td>\n",
       "      <td>Infubinol</td>\n",
       "      <td>Female</td>\n",
       "      <td>20</td>\n",
       "      <td>23</td>\n",
       "    </tr>\n",
       "    <tr>\n",
       "      <th>598</th>\n",
       "      <td>a203</td>\n",
       "      <td>10</td>\n",
       "      <td>51.852437</td>\n",
       "      <td>1</td>\n",
       "      <td>Infubinol</td>\n",
       "      <td>Female</td>\n",
       "      <td>20</td>\n",
       "      <td>23</td>\n",
       "    </tr>\n",
       "    <tr>\n",
       "      <th>1018</th>\n",
       "      <td>a203</td>\n",
       "      <td>20</td>\n",
       "      <td>55.173336</td>\n",
       "      <td>1</td>\n",
       "      <td>Infubinol</td>\n",
       "      <td>Female</td>\n",
       "      <td>20</td>\n",
       "      <td>23</td>\n",
       "    </tr>\n",
       "    <tr>\n",
       "      <th>1675</th>\n",
       "      <td>a203</td>\n",
       "      <td>40</td>\n",
       "      <td>63.593490</td>\n",
       "      <td>2</td>\n",
       "      <td>Infubinol</td>\n",
       "      <td>Female</td>\n",
       "      <td>20</td>\n",
       "      <td>23</td>\n",
       "    </tr>\n",
       "    <tr>\n",
       "      <th>1577</th>\n",
       "      <td>a203</td>\n",
       "      <td>35</td>\n",
       "      <td>61.931650</td>\n",
       "      <td>2</td>\n",
       "      <td>Infubinol</td>\n",
       "      <td>Female</td>\n",
       "      <td>20</td>\n",
       "      <td>23</td>\n",
       "    </tr>\n",
       "  </tbody>\n",
       "</table>\n",
       "</div>"
      ],
      "text/plain": [
       "     Mouse ID  Timepoint  Tumor Volume (mm3)  Metastatic Sites Drug Regimen  \\\n",
       "1295     a203         25           56.793208                 1    Infubinol   \n",
       "389      a203          5           48.508468                 0    Infubinol   \n",
       "1804     a203         45           67.973419                 2    Infubinol   \n",
       "758      a203         15           52.777870                 1    Infubinol   \n",
       "1315     a203         30           59.523197                 1    Infubinol   \n",
       "598      a203         10           51.852437                 1    Infubinol   \n",
       "1018     a203         20           55.173336                 1    Infubinol   \n",
       "1675     a203         40           63.593490                 2    Infubinol   \n",
       "1577     a203         35           61.931650                 2    Infubinol   \n",
       "\n",
       "         Sex  Age_months  Weight (g)  \n",
       "1295  Female          20          23  \n",
       "389   Female          20          23  \n",
       "1804  Female          20          23  \n",
       "758   Female          20          23  \n",
       "1315  Female          20          23  \n",
       "598   Female          20          23  \n",
       "1018  Female          20          23  \n",
       "1675  Female          20          23  \n",
       "1577  Female          20          23  "
      ]
     },
     "execution_count": 5,
     "metadata": {},
     "output_type": "execute_result"
    }
   ],
   "source": [
    "# Optional: Get all the data for the duplicate mouse ID. \n",
    "one_mouse_display = mice_duplicates.sort_values(by = \"Mouse ID\", ascending = True)\n",
    "one_mouse_display.head(9)"
   ]
  },
  {
   "cell_type": "code",
   "execution_count": 6,
   "metadata": {},
   "outputs": [
    {
     "data": {
      "text/plain": [
       "array(['b128', 'f932', 'g107', 'a457', 'c819', 'h246', 'p189', 'n923',\n",
       "       'q119', 'f993', 'z234', 'b559', 'y260', 'x930', 'o725', 'z969',\n",
       "       'v835', 'r604', 'n304', 'l700', 'x336', 'l725', 'm133', 'v295',\n",
       "       'a818', 'y601', 't724', 'k382', 'w422', 'c326', 'c139', 'v339',\n",
       "       'a577', 'y163', 'k483', 'k804', 'o809', 'z581', 'a251', 'i386',\n",
       "       'c580', 'q132', 'u327', 'v603', 'f278', 'g497', 'd474', 'o973',\n",
       "       'c832', 'o331', 'm650', 'v289', 'm550', 'h428', 'r701', 'v199',\n",
       "       'x264', 'f234', 'c458', 'q610', 'j913', 'a411', 'a444', 'd251',\n",
       "       'j989', 'y449', 'k403', 'c758', 'x402', 'r811', 'a644', 'i177',\n",
       "       'g791', 'a520', 'u196', 'm546', 'w678', 'n364', 's508', 'e662',\n",
       "       'z578', 'r921', 'a492', 'w540', 'v764', 'z795', 'e291', 'e584',\n",
       "       'e213', 'j755', 's565', 'a366', 'p387', 'b879', 'i901', 'k862',\n",
       "       'g867', 's619', 'w697', 'j984', 'c402', 'h333', 'k510', 'p981',\n",
       "       't451', 'a963', 'm269', 'g989', 'z314', 'o848', 'v719', 'q597',\n",
       "       'c895', 'a203', 'f394', 'c264', 'n967', 'f545', 'k894', 'k754',\n",
       "       'g296', 'd164', 'w575', 'x613', 'q633', 'b313', 'f129', 'j365',\n",
       "       'p136', 'c559', 'a788', 's337', 'q511', 'm331', 'o926', 'd133',\n",
       "       'n630', 'a401', 'w350', 'c302', 'a897', 'j235', 'q787', 'a262',\n",
       "       'r850', 'i669', 'n763', 's152', 'c766', 'e227', 'c282', 'v989',\n",
       "       'w140', 'v409', 'l872', 'o795', 'y478', 'q582', 's166', 'x773',\n",
       "       'w167', 't718', 'o302', 'i477', 'c757', 't994', 'p310', 'a699',\n",
       "       'k603', 'x822', 'l558', 'l733', 'f436', 'l490', 'b759', 'l471',\n",
       "       'y865', 'y769', 'l661', 'j296', 'u149', 'u153', 'w151', 'h531',\n",
       "       'a685', 'o813', 'm756', 'n671', 's121', 'v766', 'w193', 'e476',\n",
       "       'w584', 'b447', 'k210', 'a275', 'x581', 'n482', 't198', 'l215',\n",
       "       's141', 'o523', 'i635', 'w746', 'r107', 's187', 'g570', 'x209',\n",
       "       'x111', 'z435', 'n678', 'g558', 'u946', 'o562', 'v991', 'c927',\n",
       "       'x226', 'p438', 'b487', 'o287', 'q483', 't573', 'f345', 'i334',\n",
       "       'l264', 'j246', 'r554', 's185', 'b742', 'x401', 'l509', 's710',\n",
       "       'r157', 'u364', 'j119', 'v923', 'w914', 'i738', 'r944', 'y793',\n",
       "       'g316', 'g288', 'l897', 'w150', 't565', 'i557', 'm957', 'f966',\n",
       "       'm601'], dtype=object)"
      ]
     },
     "execution_count": 6,
     "metadata": {},
     "output_type": "execute_result"
    }
   ],
   "source": [
    "#Getting the mice ID's to put into a DF\n",
    "mice = combined_data_df[\"Mouse ID\"].unique()\n",
    "mice"
   ]
  },
  {
   "cell_type": "code",
   "execution_count": 7,
   "metadata": {},
   "outputs": [
    {
     "data": {
      "text/html": [
       "<div>\n",
       "<style scoped>\n",
       "    .dataframe tbody tr th:only-of-type {\n",
       "        vertical-align: middle;\n",
       "    }\n",
       "\n",
       "    .dataframe tbody tr th {\n",
       "        vertical-align: top;\n",
       "    }\n",
       "\n",
       "    .dataframe thead th {\n",
       "        text-align: right;\n",
       "    }\n",
       "</style>\n",
       "<table border=\"1\" class=\"dataframe\">\n",
       "  <thead>\n",
       "    <tr style=\"text-align: right;\">\n",
       "      <th></th>\n",
       "      <th>Mouse ID</th>\n",
       "      <th>Timepoint</th>\n",
       "      <th>Tumor Volume (mm3)</th>\n",
       "      <th>Metastatic Sites</th>\n",
       "      <th>Drug Regimen</th>\n",
       "      <th>Sex</th>\n",
       "      <th>Age_months</th>\n",
       "      <th>Weight (g)</th>\n",
       "    </tr>\n",
       "  </thead>\n",
       "  <tbody>\n",
       "    <tr>\n",
       "      <th>137</th>\n",
       "      <td>g989</td>\n",
       "      <td>0</td>\n",
       "      <td>45.000000</td>\n",
       "      <td>0</td>\n",
       "      <td>Propriva</td>\n",
       "      <td>Female</td>\n",
       "      <td>21</td>\n",
       "      <td>26</td>\n",
       "    </tr>\n",
       "    <tr>\n",
       "      <th>250</th>\n",
       "      <td>a275</td>\n",
       "      <td>5</td>\n",
       "      <td>46.795257</td>\n",
       "      <td>0</td>\n",
       "      <td>Ceftamin</td>\n",
       "      <td>Female</td>\n",
       "      <td>20</td>\n",
       "      <td>28</td>\n",
       "    </tr>\n",
       "    <tr>\n",
       "      <th>251</th>\n",
       "      <td>w575</td>\n",
       "      <td>5</td>\n",
       "      <td>48.913860</td>\n",
       "      <td>1</td>\n",
       "      <td>Zoniferol</td>\n",
       "      <td>Female</td>\n",
       "      <td>16</td>\n",
       "      <td>28</td>\n",
       "    </tr>\n",
       "    <tr>\n",
       "      <th>252</th>\n",
       "      <td>x822</td>\n",
       "      <td>5</td>\n",
       "      <td>45.671104</td>\n",
       "      <td>1</td>\n",
       "      <td>Ceftamin</td>\n",
       "      <td>Male</td>\n",
       "      <td>3</td>\n",
       "      <td>29</td>\n",
       "    </tr>\n",
       "    <tr>\n",
       "      <th>253</th>\n",
       "      <td>l509</td>\n",
       "      <td>5</td>\n",
       "      <td>45.851193</td>\n",
       "      <td>0</td>\n",
       "      <td>Capomulin</td>\n",
       "      <td>Male</td>\n",
       "      <td>17</td>\n",
       "      <td>21</td>\n",
       "    </tr>\n",
       "    <tr>\n",
       "      <th>...</th>\n",
       "      <td>...</td>\n",
       "      <td>...</td>\n",
       "      <td>...</td>\n",
       "      <td>...</td>\n",
       "      <td>...</td>\n",
       "      <td>...</td>\n",
       "      <td>...</td>\n",
       "      <td>...</td>\n",
       "    </tr>\n",
       "    <tr>\n",
       "      <th>1888</th>\n",
       "      <td>r944</td>\n",
       "      <td>45</td>\n",
       "      <td>41.581521</td>\n",
       "      <td>2</td>\n",
       "      <td>Capomulin</td>\n",
       "      <td>Male</td>\n",
       "      <td>12</td>\n",
       "      <td>25</td>\n",
       "    </tr>\n",
       "    <tr>\n",
       "      <th>1889</th>\n",
       "      <td>u364</td>\n",
       "      <td>45</td>\n",
       "      <td>31.023923</td>\n",
       "      <td>3</td>\n",
       "      <td>Capomulin</td>\n",
       "      <td>Male</td>\n",
       "      <td>18</td>\n",
       "      <td>17</td>\n",
       "    </tr>\n",
       "    <tr>\n",
       "      <th>1890</th>\n",
       "      <td>p438</td>\n",
       "      <td>45</td>\n",
       "      <td>61.433892</td>\n",
       "      <td>1</td>\n",
       "      <td>Ceftamin</td>\n",
       "      <td>Female</td>\n",
       "      <td>11</td>\n",
       "      <td>26</td>\n",
       "    </tr>\n",
       "    <tr>\n",
       "      <th>1891</th>\n",
       "      <td>x773</td>\n",
       "      <td>45</td>\n",
       "      <td>58.634971</td>\n",
       "      <td>4</td>\n",
       "      <td>Placebo</td>\n",
       "      <td>Female</td>\n",
       "      <td>21</td>\n",
       "      <td>30</td>\n",
       "    </tr>\n",
       "    <tr>\n",
       "      <th>1892</th>\n",
       "      <td>b879</td>\n",
       "      <td>45</td>\n",
       "      <td>72.555239</td>\n",
       "      <td>2</td>\n",
       "      <td>Stelasyn</td>\n",
       "      <td>Female</td>\n",
       "      <td>4</td>\n",
       "      <td>26</td>\n",
       "    </tr>\n",
       "  </tbody>\n",
       "</table>\n",
       "<p>1644 rows × 8 columns</p>\n",
       "</div>"
      ],
      "text/plain": [
       "     Mouse ID  Timepoint  Tumor Volume (mm3)  Metastatic Sites Drug Regimen  \\\n",
       "137      g989          0           45.000000                 0     Propriva   \n",
       "250      a275          5           46.795257                 0     Ceftamin   \n",
       "251      w575          5           48.913860                 1    Zoniferol   \n",
       "252      x822          5           45.671104                 1     Ceftamin   \n",
       "253      l509          5           45.851193                 0    Capomulin   \n",
       "...       ...        ...                 ...               ...          ...   \n",
       "1888     r944         45           41.581521                 2    Capomulin   \n",
       "1889     u364         45           31.023923                 3    Capomulin   \n",
       "1890     p438         45           61.433892                 1     Ceftamin   \n",
       "1891     x773         45           58.634971                 4      Placebo   \n",
       "1892     b879         45           72.555239                 2     Stelasyn   \n",
       "\n",
       "         Sex  Age_months  Weight (g)  \n",
       "137   Female          21          26  \n",
       "250   Female          20          28  \n",
       "251   Female          16          28  \n",
       "252     Male           3          29  \n",
       "253     Male          17          21  \n",
       "...      ...         ...         ...  \n",
       "1888    Male          12          25  \n",
       "1889    Male          18          17  \n",
       "1890  Female          11          26  \n",
       "1891  Female          21          30  \n",
       "1892  Female           4          26  \n",
       "\n",
       "[1644 rows x 8 columns]"
      ]
     },
     "execution_count": 7,
     "metadata": {},
     "output_type": "execute_result"
    }
   ],
   "source": [
    "# Create a clean DataFrame by dropping the duplicate mouse by its ID.\n",
    "mice_id_list = pd.Series(['b128', 'f932', 'g107', 'a457', 'c819', 'h246', 'p189', 'n923',\n",
    "       'q119', 'f993', 'z234', 'b559', 'y260', 'x930', 'o725', 'z969',\n",
    "       'v835', 'r604', 'n304', 'l700', 'x336', 'l725', 'm133', 'v295',\n",
    "       'a818', 'y601', 't724', 'k382', 'w422', 'c326', 'c139', 'v339',\n",
    "       'a577', 'y163', 'k483', 'k804', 'o809', 'z581', 'a251', 'i386',\n",
    "       'c580', 'q132', 'u327', 'v603', 'f278', 'g497', 'd474', 'o973',\n",
    "       'c832', 'o331', 'm650', 'v289', 'm550', 'h428', 'r701', 'v199',\n",
    "       'x264', 'f234', 'c458', 'q610', 'j913', 'a411', 'a444', 'd251',\n",
    "       'j989', 'y449', 'k403', 'c758', 'x402', 'r811', 'a644', 'i177',\n",
    "       'g791', 'a520', 'u196', 'm546', 'w678', 'n364', 's508', 'e662',\n",
    "       'z578', 'r921', 'a492', 'w540', 'v764', 'z795', 'e291', 'e584',\n",
    "       'e213', 'j755', 's565', 'a366', 'p387', 'b879', 'i901', 'k862',\n",
    "       'g867', 's619', 'w697', 'j984', 'c402', 'h333', 'k510', 'p981',\n",
    "       't451', 'a963', 'm269', 'g989', 'z314', 'o848', 'v719', 'q597',\n",
    "       'c895', 'a203', 'f394', 'c264', 'n967', 'f545', 'k894', 'k754',\n",
    "       'g296', 'd164', 'w575', 'x613', 'q633', 'b313', 'f129', 'j365',\n",
    "       'p136', 'c559', 'a788', 's337', 'q511', 'm331', 'o926', 'd133',\n",
    "       'n630', 'a401', 'w350', 'c302', 'a897', 'j235', 'q787', 'a262',\n",
    "       'r850', 'i669', 'n763', 's152', 'c766', 'e227', 'c282', 'v989',\n",
    "       'w140', 'v409', 'l872', 'o795', 'y478', 'q582', 's166', 'x773',\n",
    "       'w167', 't718', 'o302', 'i477', 'c757', 't994', 'p310', 'a699',\n",
    "       'k603', 'x822', 'l558', 'l733', 'f436', 'l490', 'b759', 'l471',\n",
    "       'y865', 'y769', 'l661', 'j296', 'u149', 'u153', 'w151', 'h531',\n",
    "       'a685', 'o813', 'm756', 'n671', 's121', 'v766', 'w193', 'e476',\n",
    "       'w584', 'b447', 'k210', 'a275', 'x581', 'n482', 't198', 'l215',\n",
    "       's141', 'o523', 'i635', 'w746', 'r107', 's187', 'g570', 'x209',\n",
    "       'x111', 'z435', 'n678', 'g558', 'u946', 'o562', 'v991', 'c927',\n",
    "       'x226', 'p438', 'b487', 'o287', 'q483', 't573', 'f345', 'i334',\n",
    "       'l264', 'j246', 'r554', 's185', 'b742', 'x401', 'l509', 's710',\n",
    "       'r157', 'u364', 'j119', 'v923', 'w914', 'i738', 'r944', 'y793',\n",
    "       'g316', 'g288', 'l897', 'w150', 't565', 'i557', 'm957', 'f966',\n",
    "       'm601'])\n",
    "dropped_duplicates_df = mice_duplicates[mice_duplicates[\"Mouse ID\"].isin(mice_id_list)]\n",
    "dropped_duplicates_df\n"
   ]
  },
  {
   "cell_type": "code",
   "execution_count": 8,
   "metadata": {},
   "outputs": [
    {
     "data": {
      "text/plain": [
       "237"
      ]
     },
     "execution_count": 8,
     "metadata": {},
     "output_type": "execute_result"
    }
   ],
   "source": [
    "# Checking the number of mice in the clean DataFrame.\n",
    "second_mice_count = dropped_duplicates_df[\"Mouse ID\"].nunique()\n",
    "second_mice_count"
   ]
  },
  {
   "cell_type": "markdown",
   "metadata": {},
   "source": [
    "## Summary Statistics"
   ]
  },
  {
   "cell_type": "code",
   "execution_count": 247,
   "metadata": {},
   "outputs": [
    {
     "data": {
      "text/plain": [
       "{'Mean': Drug Regimen\n",
       " Capomulin    40.148392\n",
       " Ceftamin     53.831559\n",
       " Infubinol    54.173160\n",
       " Ketapril     56.805521\n",
       " Naftisol     55.780565\n",
       " Placebo      55.481270\n",
       " Propriva     53.668609\n",
       " Ramicane     39.627674\n",
       " Stelasyn     55.644586\n",
       " Zoniferol    54.548052\n",
       " Name: Tumor Volume (mm3), dtype: float64,\n",
       " 'Median': Drug Regimen\n",
       " Capomulin    40.716428\n",
       " Ceftamin     52.847559\n",
       " Infubinol    53.244458\n",
       " Ketapril     56.098998\n",
       " Naftisol     54.234502\n",
       " Placebo      53.354528\n",
       " Propriva     52.663801\n",
       " Ramicane     39.769552\n",
       " Stelasyn     54.328317\n",
       " Zoniferol    53.287287\n",
       " Name: Tumor Volume (mm3), dtype: float64,\n",
       " 'Variance': Drug Regimen\n",
       " Capomulin    25.434058\n",
       " Ceftamin     34.725752\n",
       " Infubinol    38.326085\n",
       " Ketapril     60.485143\n",
       " Naftisol     60.794406\n",
       " Placebo      55.762387\n",
       " Propriva     38.438982\n",
       " Ramicane     23.213127\n",
       " Stelasyn     53.476333\n",
       " Zoniferol    43.708157\n",
       " Name: Tumor Volume (mm3), dtype: float64,\n",
       " 'Std. Dev': Drug Regimen\n",
       " Capomulin    5.043219\n",
       " Ceftamin     5.892856\n",
       " Infubinol    6.190806\n",
       " Ketapril     7.777219\n",
       " Naftisol     7.797077\n",
       " Placebo      7.467422\n",
       " Propriva     6.199918\n",
       " Ramicane     4.818000\n",
       " Stelasyn     7.312751\n",
       " Zoniferol    6.611214\n",
       " Name: Tumor Volume (mm3), dtype: float64}"
      ]
     },
     "execution_count": 247,
     "metadata": {},
     "output_type": "execute_result"
    }
   ],
   "source": [
    "# Generate a summary statistics table of mean, median, variance, standard deviation, and SEM of the tumor volume for each regimen\n",
    "\n",
    "# Use groupby and summary statistical methods to calculate the following properties of each drug regimen: \n",
    "# mean, median, variance, standard deviation, and SEM of the tumor volume. \n",
    "# Assemble the resulting series into a single summary dataframe.\n",
    "\n",
    "\n",
    "tumor_volume_median = dropped_duplicates_df.groupby(\"Drug Regimen\")[\"Tumor Volume (mm3)\"].median()\n",
    "tumor_volume_mean = dropped_duplicates_df.groupby(\"Drug Regimen\")[\"Tumor Volume (mm3)\"].mean()\n",
    "tumor_volume_var = dropped_duplicates_df.groupby(\"Drug Regimen\")[\"Tumor Volume (mm3)\"].var()\n",
    "tumor_volume_stddev = dropped_duplicates_df.groupby(\"Drug Regimen\")[\"Tumor Volume (mm3)\"].std()\n",
    "\n",
    "#Dataframe of the statistics\n",
    "tumor_data_df = {\"Mean\" : tumor_volume_mean,\n",
    "              \"Median\" : tumor_volume_median,\n",
    "              \"Variance\" : tumor_volume_var,\n",
    "              \"Std. Dev\" : tumor_volume_stddev,\n",
    "#               \"Tumor Volume Std. Err\" : tumor_volume_stderr\n",
    "             }\n",
    "tumor_data_df\n"
   ]
  },
  {
   "cell_type": "code",
   "execution_count": 49,
   "metadata": {},
   "outputs": [],
   "source": [
    "# Generate a summary statistics table of mean, median, variance, standard deviation, and SEM of the tumor volume for each regimen\n",
    "\n",
    "# Using the aggregation method, produce the same summary statistics in a single line\n",
    "# tumor_data_df.agg({\"Mean\" : \"tumor_volume_mean\",\n",
    "#               \"Median\" : \"tumor_volume_median\",\n",
    "#               \"Variance\" : \"tumor_volume_var\",\n",
    "#               \"Std. Dev\" : \"tumor_volume_stddev\",})\n",
    "\n"
   ]
  },
  {
   "cell_type": "markdown",
   "metadata": {},
   "source": [
    "## Bar and Pie Charts"
   ]
  },
  {
   "cell_type": "code",
   "execution_count": 181,
   "metadata": {},
   "outputs": [
    {
     "data": {
      "text/plain": [
       "Drug Regimen\n",
       "Capomulin    205\n",
       "Ceftamin     153\n",
       "Infubinol    153\n",
       "Ketapril     163\n",
       "Naftisol     161\n",
       "Placebo      156\n",
       "Propriva     136\n",
       "Ramicane     203\n",
       "Stelasyn     157\n",
       "Zoniferol    157\n",
       "Name: Tumor Volume (mm3), dtype: int64"
      ]
     },
     "execution_count": 181,
     "metadata": {},
     "output_type": "execute_result"
    }
   ],
   "source": [
    "#Create the data to extract info from\n",
    "mice_and_drug = dropped_duplicates_df.groupby(\"Drug Regimen\")[\"Tumor Volume (mm3)\"].count()\n",
    "mice_and_drug\n"
   ]
  },
  {
   "cell_type": "code",
   "execution_count": 194,
   "metadata": {},
   "outputs": [
    {
     "data": {
      "image/png": "[encoded data removed]",
      "text/plain": [
       "<Figure size 1440x216 with 1 Axes>"
      ]
     },
     "metadata": {
      "needs_background": "light"
     },
     "output_type": "display_data"
    },
    {
     "data": {
      "text/plain": [
       "<Figure size 432x288 with 0 Axes>"
      ]
     },
     "metadata": {},
     "output_type": "display_data"
    }
   ],
   "source": [
    "# Generate a bar plot showing the total number of unique mice tested on each drug regimen using pandas\n",
    "mice_and_drug.plot(kind=\"bar\", figsize=(20,3), color=\"r\")\n",
    "plt.show()\n",
    "plt.tight_layout()"
   ]
  },
  {
   "cell_type": "code",
   "execution_count": 195,
   "metadata": {},
   "outputs": [
    {
     "data": {
      "image/png": "[encoded data removed]",
      "text/plain": [
       "<Figure size 1440x216 with 1 Axes>"
      ]
     },
     "metadata": {
      "needs_background": "light"
     },
     "output_type": "display_data"
    }
   ],
   "source": [
    "# Generate a bar plot showing the total number of unique mice tested on each drug regimen using pyplot.\n",
    "drug_list = [\"Capomulin\", \"Ceftamin\", \"Infubinol\", \"Ketapril\", \"Naftisol\", \"Placebo\", \"Propriva\", \"Ramicane\", \"Stelasyn\", \"Zoniferol\"]\n",
    "x_axis = np.arange(len(mice_and_drug))\n",
    "tick_locations = [value for value in x_axis]\n",
    "plt.figure(figsize=(20,3))\n",
    "plt.bar(drug_list, mice_and_drug, color=\"r\", alpha=0.5)\n",
    "plt.show()"
   ]
  },
  {
   "cell_type": "code",
   "execution_count": 233,
   "metadata": {},
   "outputs": [
    {
     "data": {
      "text/plain": [
       "Sex\n",
       "Female    811\n",
       "Male      833\n",
       "Name: Sex, dtype: int64"
      ]
     },
     "execution_count": 233,
     "metadata": {},
     "output_type": "execute_result"
    }
   ],
   "source": [
    "#Create data for male/female to extract info\n",
    "mice_gender = dropped_duplicates_df.groupby(\"Sex\")[\"Sex\"].count()\n",
    "mice_gender"
   ]
  },
  {
   "cell_type": "code",
   "execution_count": 236,
   "metadata": {},
   "outputs": [
    {
     "data": {
      "image/png": "[encoded data removed]",
      "text/plain": [
       "<Figure size 432x288 with 1 Axes>"
      ]
     },
     "metadata": {},
     "output_type": "display_data"
    },
    {
     "data": {
      "text/plain": [
       "<Figure size 432x288 with 0 Axes>"
      ]
     },
     "metadata": {},
     "output_type": "display_data"
    }
   ],
   "source": [
    "# Generate a pie plot showing the distribution of female versus male mice using pandas\n",
    "mice_gender.plot(kind=\"pie\", autopct=\"%1.1f%%\", startangle = 180)\n",
    "plt.show()\n",
    "plt.tight_layout()\n"
   ]
  },
  {
   "cell_type": "code",
   "execution_count": 237,
   "metadata": {},
   "outputs": [
    {
     "data": {
      "image/png": "[encoded data removed]",
      "text/plain": [
       "<Figure size 432x288 with 1 Axes>"
      ]
     },
     "metadata": {},
     "output_type": "display_data"
    }
   ],
   "source": [
    "# Generate a pie plot showing the distribution of female versus male mice using pyplot\n",
    "labels = [\"male\", \"female\"]\n",
    "title = [\"sex\"]\n",
    "sizes = [50.7, 49.3]\n",
    "colors = [\"orange\", \"blue\"]\n",
    "explode = (0.0,0)\n",
    "plt.pie(sizes, explode=explode, labels=labels, colors=colors,\n",
    "        autopct=\"%1.1f%%\", startangle=180, counterclock = False)\n",
    "plt.title(\"Sex\")\n",
    "plt.show()"
   ]
  },
  {
   "cell_type": "markdown",
   "metadata": {},
   "source": [
    "## Quartiles, Outliers and Boxplots"
   ]
  },
  {
   "cell_type": "code",
   "execution_count": 266,
   "metadata": {},
   "outputs": [
    {
     "data": {
      "text/html": [
       "<div>\n",
       "<style scoped>\n",
       "    .dataframe tbody tr th:only-of-type {\n",
       "        vertical-align: middle;\n",
       "    }\n",
       "\n",
       "    .dataframe tbody tr th {\n",
       "        vertical-align: top;\n",
       "    }\n",
       "\n",
       "    .dataframe thead th {\n",
       "        text-align: right;\n",
       "    }\n",
       "</style>\n",
       "<table border=\"1\" class=\"dataframe\">\n",
       "  <thead>\n",
       "    <tr style=\"text-align: right;\">\n",
       "      <th></th>\n",
       "      <th>Drug Regimen</th>\n",
       "      <th>Timepoint</th>\n",
       "    </tr>\n",
       "  </thead>\n",
       "  <tbody>\n",
       "    <tr>\n",
       "      <th>0</th>\n",
       "      <td>Capomulin</td>\n",
       "      <td>45</td>\n",
       "    </tr>\n",
       "    <tr>\n",
       "      <th>1</th>\n",
       "      <td>Ramicane</td>\n",
       "      <td>45</td>\n",
       "    </tr>\n",
       "    <tr>\n",
       "      <th>2</th>\n",
       "      <td>Infubinol</td>\n",
       "      <td>45</td>\n",
       "    </tr>\n",
       "    <tr>\n",
       "      <th>3</th>\n",
       "      <td>Ceftamin</td>\n",
       "      <td>45</td>\n",
       "    </tr>\n",
       "  </tbody>\n",
       "</table>\n",
       "</div>"
      ],
      "text/plain": [
       "  Drug Regimen  Timepoint\n",
       "0    Capomulin         45\n",
       "1     Ramicane         45\n",
       "2    Infubinol         45\n",
       "3     Ceftamin         45"
      ]
     },
     "execution_count": 266,
     "metadata": {},
     "output_type": "execute_result"
    }
   ],
   "source": [
    "# Calculate the final tumor volume of each mouse across four of the treatment regimens:  \n",
    "# Capomulin, Ramicane, Infubinol, and Ceftamin\n",
    "\n",
    "# Start by getting the last (greatest) timepoint for each mouse\n",
    "timepoint = dropped_duplicates_df.groupby(\"Drug Regimen\")[\"Timepoint\"].max()\n",
    "timepoint\n",
    "\n",
    "# Merge this group df with the original dataframe to get the tumor volume at the last timepoint\n",
    "data= {'Drug Regimen' : ['Capomulin','Ramicane','Infubinol','Ceftamin'],\n",
    "               'Timepoint': [45, 45, 45, 45]}\n",
    "timepoint_df = pd.DataFrame(data, columns =[\"Drug Regimen\",\"Timepoint\"])\n",
    "timepoint_df\n"
   ]
  },
  {
   "cell_type": "code",
   "execution_count": 279,
   "metadata": {},
   "outputs": [
    {
     "data": {
      "text/html": [
       "<div>\n",
       "<style scoped>\n",
       "    .dataframe tbody tr th:only-of-type {\n",
       "        vertical-align: middle;\n",
       "    }\n",
       "\n",
       "    .dataframe tbody tr th {\n",
       "        vertical-align: top;\n",
       "    }\n",
       "\n",
       "    .dataframe thead th {\n",
       "        text-align: right;\n",
       "    }\n",
       "</style>\n",
       "<table border=\"1\" class=\"dataframe\">\n",
       "  <thead>\n",
       "    <tr style=\"text-align: right;\">\n",
       "      <th></th>\n",
       "      <th>Mouse ID</th>\n",
       "      <th>Timepoint</th>\n",
       "      <th>Tumor Volume (mm3)</th>\n",
       "      <th>Metastatic Sites</th>\n",
       "      <th>Drug Regimen_x</th>\n",
       "      <th>Sex</th>\n",
       "      <th>Age_months</th>\n",
       "      <th>Weight (g)</th>\n",
       "      <th>Mouse ID Count</th>\n",
       "      <th>Drug Regimen_y</th>\n",
       "    </tr>\n",
       "  </thead>\n",
       "  <tbody>\n",
       "    <tr>\n",
       "      <th>2033</th>\n",
       "      <td>b879</td>\n",
       "      <td>45</td>\n",
       "      <td>72.555239</td>\n",
       "      <td>2</td>\n",
       "      <td>Stelasyn</td>\n",
       "      <td>Female</td>\n",
       "      <td>4</td>\n",
       "      <td>26</td>\n",
       "      <td></td>\n",
       "      <td>Ceftamin</td>\n",
       "    </tr>\n",
       "    <tr>\n",
       "      <th>1676</th>\n",
       "      <td>k382</td>\n",
       "      <td>45</td>\n",
       "      <td>73.715619</td>\n",
       "      <td>4</td>\n",
       "      <td>Ketapril</td>\n",
       "      <td>Male</td>\n",
       "      <td>22</td>\n",
       "      <td>29</td>\n",
       "      <td></td>\n",
       "      <td>Infubinol</td>\n",
       "    </tr>\n",
       "    <tr>\n",
       "      <th>1678</th>\n",
       "      <td>a203</td>\n",
       "      <td>45</td>\n",
       "      <td>67.973419</td>\n",
       "      <td>2</td>\n",
       "      <td>Infubinol</td>\n",
       "      <td>Female</td>\n",
       "      <td>20</td>\n",
       "      <td>23</td>\n",
       "      <td></td>\n",
       "      <td>Capomulin</td>\n",
       "    </tr>\n",
       "    <tr>\n",
       "      <th>1679</th>\n",
       "      <td>a203</td>\n",
       "      <td>45</td>\n",
       "      <td>67.973419</td>\n",
       "      <td>2</td>\n",
       "      <td>Infubinol</td>\n",
       "      <td>Female</td>\n",
       "      <td>20</td>\n",
       "      <td>23</td>\n",
       "      <td></td>\n",
       "      <td>Ramicane</td>\n",
       "    </tr>\n",
       "    <tr>\n",
       "      <th>1680</th>\n",
       "      <td>a203</td>\n",
       "      <td>45</td>\n",
       "      <td>67.973419</td>\n",
       "      <td>2</td>\n",
       "      <td>Infubinol</td>\n",
       "      <td>Female</td>\n",
       "      <td>20</td>\n",
       "      <td>23</td>\n",
       "      <td></td>\n",
       "      <td>Infubinol</td>\n",
       "    </tr>\n",
       "  </tbody>\n",
       "</table>\n",
       "</div>"
      ],
      "text/plain": [
       "     Mouse ID  Timepoint  Tumor Volume (mm3)  Metastatic Sites Drug Regimen_x  \\\n",
       "2033     b879         45           72.555239                 2       Stelasyn   \n",
       "1676     k382         45           73.715619                 4       Ketapril   \n",
       "1678     a203         45           67.973419                 2      Infubinol   \n",
       "1679     a203         45           67.973419                 2      Infubinol   \n",
       "1680     a203         45           67.973419                 2      Infubinol   \n",
       "\n",
       "         Sex  Age_months  Weight (g) Mouse ID Count Drug Regimen_y  \n",
       "2033  Female           4          26                      Ceftamin  \n",
       "1676    Male          22          29                     Infubinol  \n",
       "1678  Female          20          23                     Capomulin  \n",
       "1679  Female          20          23                      Ramicane  \n",
       "1680  Female          20          23                     Infubinol  "
      ]
     },
     "execution_count": 279,
     "metadata": {},
     "output_type": "execute_result"
    }
   ],
   "source": [
    "#merging the new DF with the old file\n",
    "new_table_df = pd.merge(dropped_duplicates_df, timepoint_df, on = \"Timepoint\", how =\"left\")\n",
    "new_table_df.sort_values(by = \"Timepoint\", ascending = False).head()"
   ]
  },
  {
   "cell_type": "code",
   "execution_count": 14,
   "metadata": {},
   "outputs": [],
   "source": [
    "# Put treatments into a list for for loop (and later for plot labels)\n",
    "treatment_list = ['Capomulin','Ramicane','Infubinol','Ceftamin']\n",
    "\n",
    "# Create empty list to fill with tumor vol data (for plotting)\n",
    "specific_tumor_volumes = []\n",
    "\n",
    "# Calculate the IQR and quantitatively determine if there are any potential outliers. \n",
    "\n",
    "    \n",
    "    # Locate the rows which contain mice on each drug and get the tumor volumes\n",
    "    \n",
    "    \n",
    "    # add subset \n",
    "    \n",
    "    \n",
    "    # Determine outliers using upper and lower bounds\n",
    "    "
   ]
  },
  {
   "cell_type": "code",
   "execution_count": 15,
   "metadata": {},
   "outputs": [],
   "source": [
    "# Generate a box plot of the final tumor volume of each mouse across four regimens of interest\n"
   ]
  },
  {
   "cell_type": "markdown",
   "metadata": {},
   "source": [
    "## Line and Scatter Plots"
   ]
  },
  {
   "cell_type": "code",
   "execution_count": 16,
   "metadata": {},
   "outputs": [],
   "source": [
    "# Generate a line plot of tumor volume vs. time point for a mouse treated with Capomulin\n"
   ]
  },
  {
   "cell_type": "code",
   "execution_count": 17,
   "metadata": {},
   "outputs": [],
   "source": [
    "# Generate a scatter plot of average tumor volume vs. mouse weight for the Capomulin regimen\n"
   ]
  },
  {
   "cell_type": "markdown",
   "metadata": {},
   "source": [
    "## Correlation and Regression"
   ]
  },
  {
   "cell_type": "code",
   "execution_count": 18,
   "metadata": {},
   "outputs": [],
   "source": [
    "# Calculate the correlation coefficient and linear regression model \n",
    "# for mouse weight and average tumor volume for the Capomulin regimen\n"
   ]
  },
  {
   "cell_type": "code",
   "execution_count": null,
   "metadata": {},
   "outputs": [],
   "source": []
  }
 ],
 "metadata": {
  "anaconda-cloud": {},
  "kernelspec": {
   "display_name": "Python [conda env:PythonData] *",
   "language": "python",
   "name": "conda-env-PythonData-py"
  },
  "language_info": {
   "codemirror_mode": {
    "name": "ipython",
    "version": 3
   },
   "file_extension": ".py",
   "mimetype": "text/x-python",
   "name": "python",
   "nbconvert_exporter": "python",
   "pygments_lexer": "ipython3",
   "version": "3.7.1"
  }
 },
 "nbformat": 4,
 "nbformat_minor": 4
}
